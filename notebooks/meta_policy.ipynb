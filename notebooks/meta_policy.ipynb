{
 "cells": [
  {
   "cell_type": "markdown",
   "metadata": {},
   "source": [
    "# Meta policy\n",
    "The aim of this notebook is to have some short experiments to validate the potential of training a meta policy to select reward terms. Specifically, we want to train a policy that reliably selects $r_s$ before selecting $r_x$ as those terms showed the biggest difference in training influence on preliminary tests."
   ]
  },
  {
   "cell_type": "code",
   "execution_count": 18,
   "metadata": {},
   "outputs": [],
   "source": [
    "import torch\n",
    "import torch.nn as nn\n",
    "import torch.nn.functional as F"
   ]
  },
  {
   "cell_type": "code",
   "execution_count": 27,
   "metadata": {},
   "outputs": [],
   "source": [
    "q_val_in = torch.rand(1, 10) * 100\n",
    "r_hat_in = torch.rand(1, 10)\n",
    "r_in = torch.rand(1, 10)\n",
    "w = torch.zeros(1, 4)\n",
    "w[0] = 1"
   ]
  },
  {
   "cell_type": "code",
   "execution_count": 28,
   "metadata": {},
   "outputs": [],
   "source": [
    "class MetaPolicy(nn.Module):\n",
    "    def __init__(self, in_shape, out_shape, hidden_shape):\n",
    "        super(MetaPolicy, self).__init__()\n",
    "        self.fc1 = nn.Linear(in_shape, hidden_shape)\n",
    "        self.fc2 = nn.Linear(hidden_shape, out_shape)\n",
    "\n",
    "    def forward(self, x):\n",
    "        x = F.relu(self.fc1(x))\n",
    "        x = F.softmax(self.fc2(x), dim=-1)\n",
    "        return x"
   ]
  },
  {
   "cell_type": "code",
   "execution_count": 39,
   "metadata": {},
   "outputs": [],
   "source": [
    "f = torch.stack([q_val_in, r_hat_in, r_in], dim=1)"
   ]
  },
  {
   "cell_type": "code",
   "execution_count": 40,
   "metadata": {},
   "outputs": [
    {
     "data": {
      "text/plain": [
       "torch.Size([1, 3, 10])"
      ]
     },
     "execution_count": 40,
     "metadata": {},
     "output_type": "execute_result"
    }
   ],
   "source": [
    "f.shape"
   ]
  },
  {
   "cell_type": "code",
   "execution_count": 32,
   "metadata": {},
   "outputs": [
    {
     "data": {
      "text/plain": [
       "(torch.Size([1, 34]), torch.Size([1, 4]))"
      ]
     },
     "execution_count": 32,
     "metadata": {},
     "output_type": "execute_result"
    }
   ],
   "source": [
    "meta_policy = MetaPolicy(34, 4, 4)\n",
    "\n",
    "x = torch.cat([q_val_in, r_hat_in, r_in, w], dim=-1)\n",
    "y = meta_policy(x)\n",
    "x.shape, y.shape"
   ]
  },
  {
   "cell_type": "code",
   "execution_count": null,
   "metadata": {},
   "outputs": [],
   "source": [
    "# TODO maybe we want some sort of attention mechanism here, espeically for q, r_hat and r"
   ]
  },
  {
   "cell_type": "code",
   "execution_count": null,
   "metadata": {},
   "outputs": [],
   "source": [
    "# load base policy\n",
    "# rollout base policy\n",
    "\n",
    "# train supervised on base policy rollouts and labels"
   ]
  },
  {
   "cell_type": "code",
   "execution_count": null,
   "metadata": {},
   "outputs": [],
   "source": [
    "# TODO\n",
    "- build mechanism to load base policy"
   ]
  }
 ],
 "metadata": {
  "kernelspec": {
   "display_name": "rlboost",
   "language": "python",
   "name": "python3"
  },
  "language_info": {
   "codemirror_mode": {
    "name": "ipython",
    "version": 3
   },
   "file_extension": ".py",
   "mimetype": "text/x-python",
   "name": "python",
   "nbconvert_exporter": "python",
   "pygments_lexer": "ipython3",
   "version": "3.11.9"
  }
 },
 "nbformat": 4,
 "nbformat_minor": 2
}
